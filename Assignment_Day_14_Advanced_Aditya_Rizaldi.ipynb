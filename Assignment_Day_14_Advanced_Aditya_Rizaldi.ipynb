{
  "cells": [
    {
      "cell_type": "code",
      "execution_count": null,
      "metadata": {
        "colab": {
          "base_uri": "https://localhost:8080/"
        },
        "id": "ZY-rEYUSSwun",
        "outputId": "0ac04c41-25ed-4d9a-cac4-0ed535336b3e"
      },
      "outputs": [
        {
          "name": "stdout",
          "output_type": "stream",
          "text": [
            "Collecting econml\n",
            "  Downloading econml-0.13.0-cp37-cp37m-manylinux_2_17_x86_64.manylinux2014_x86_64.whl (3.3 MB)\n",
            "\u001b[K     |████████████████████████████████| 3.3 MB 3.6 MB/s \n",
            "\u001b[?25hRequirement already satisfied: scikit-learn>0.22.0 in /usr/local/lib/python3.7/dist-packages (from econml) (1.0.2)\n",
            "Requirement already satisfied: numpy in /usr/local/lib/python3.7/dist-packages (from econml) (1.21.6)\n",
            "Requirement already satisfied: lightgbm in /usr/local/lib/python3.7/dist-packages (from econml) (2.2.3)\n",
            "Collecting shap<0.40.0,>=0.38.1\n",
            "  Downloading shap-0.39.0.tar.gz (356 kB)\n",
            "\u001b[K     |████████████████████████████████| 356 kB 46.1 MB/s \n",
            "\u001b[?25hRequirement already satisfied: statsmodels>=0.10 in /usr/local/lib/python3.7/dist-packages (from econml) (0.10.2)\n",
            "Requirement already satisfied: scipy>1.4.0 in /usr/local/lib/python3.7/dist-packages (from econml) (1.4.1)\n",
            "Requirement already satisfied: joblib>=0.13.0 in /usr/local/lib/python3.7/dist-packages (from econml) (1.1.0)\n",
            "Collecting sparse\n",
            "  Downloading sparse-0.13.0-py2.py3-none-any.whl (77 kB)\n",
            "\u001b[K     |████████████████████████████████| 77 kB 3.9 MB/s \n",
            "\u001b[?25hRequirement already satisfied: pandas in /usr/local/lib/python3.7/dist-packages (from econml) (1.3.5)\n",
            "Collecting dowhy<0.7\n",
            "  Downloading dowhy-0.6-py3-none-any.whl (123 kB)\n",
            "\u001b[K     |████████████████████████████████| 123 kB 42.4 MB/s \n",
            "\u001b[?25hRequirement already satisfied: sympy>=1.4 in /usr/local/lib/python3.7/dist-packages (from dowhy<0.7->econml) (1.7.1)\n",
            "Requirement already satisfied: networkx>=2.0 in /usr/local/lib/python3.7/dist-packages (from dowhy<0.7->econml) (2.6.3)\n",
            "Collecting pydot>=1.4\n",
            "  Downloading pydot-1.4.2-py2.py3-none-any.whl (21 kB)\n",
            "Requirement already satisfied: python-dateutil>=2.7.3 in /usr/local/lib/python3.7/dist-packages (from pandas->econml) (2.8.2)\n",
            "Requirement already satisfied: pytz>=2017.3 in /usr/local/lib/python3.7/dist-packages (from pandas->econml) (2022.1)\n",
            "Requirement already satisfied: pyparsing>=2.1.4 in /usr/local/lib/python3.7/dist-packages (from pydot>=1.4->dowhy<0.7->econml) (3.0.8)\n",
            "Requirement already satisfied: six>=1.5 in /usr/local/lib/python3.7/dist-packages (from python-dateutil>=2.7.3->pandas->econml) (1.15.0)\n",
            "Requirement already satisfied: threadpoolctl>=2.0.0 in /usr/local/lib/python3.7/dist-packages (from scikit-learn>0.22.0->econml) (3.1.0)\n",
            "Requirement already satisfied: tqdm>4.25.0 in /usr/local/lib/python3.7/dist-packages (from shap<0.40.0,>=0.38.1->econml) (4.64.0)\n",
            "Collecting slicer==0.0.7\n",
            "  Downloading slicer-0.0.7-py3-none-any.whl (14 kB)\n",
            "Requirement already satisfied: numba in /usr/local/lib/python3.7/dist-packages (from shap<0.40.0,>=0.38.1->econml) (0.51.2)\n",
            "Requirement already satisfied: cloudpickle in /usr/local/lib/python3.7/dist-packages (from shap<0.40.0,>=0.38.1->econml) (1.3.0)\n",
            "Requirement already satisfied: patsy>=0.4.0 in /usr/local/lib/python3.7/dist-packages (from statsmodels>=0.10->econml) (0.5.2)\n",
            "Requirement already satisfied: mpmath>=0.19 in /usr/local/lib/python3.7/dist-packages (from sympy>=1.4->dowhy<0.7->econml) (1.2.1)\n",
            "Requirement already satisfied: llvmlite<0.35,>=0.34.0.dev0 in /usr/local/lib/python3.7/dist-packages (from numba->shap<0.40.0,>=0.38.1->econml) (0.34.0)\n",
            "Requirement already satisfied: setuptools in /usr/local/lib/python3.7/dist-packages (from numba->shap<0.40.0,>=0.38.1->econml) (57.4.0)\n",
            "Building wheels for collected packages: shap\n",
            "  Building wheel for shap (setup.py) ... \u001b[?25l\u001b[?25hdone\n",
            "  Created wheel for shap: filename=shap-0.39.0-cp37-cp37m-linux_x86_64.whl size=491686 sha256=44664c480263cb31d3bf6cb41d89326aa124f42e42975221aeb630b0f468fba4\n",
            "  Stored in directory: /root/.cache/pip/wheels/ca/25/8f/6ae5df62c32651cd719e972e738a8aaa4a87414c4d2b14c9c0\n",
            "Successfully built shap\n",
            "Installing collected packages: slicer, pydot, sparse, shap, dowhy, econml\n",
            "  Attempting uninstall: pydot\n",
            "    Found existing installation: pydot 1.3.0\n",
            "    Uninstalling pydot-1.3.0:\n",
            "      Successfully uninstalled pydot-1.3.0\n",
            "Successfully installed dowhy-0.6 econml-0.13.0 pydot-1.4.2 shap-0.39.0 slicer-0.0.7 sparse-0.13.0\n"
          ]
        }
      ],
      "source": [
        "!pip install econml"
      ]
    },
    {
      "cell_type": "code",
      "execution_count": null,
      "metadata": {
        "id": "hMXd56hYSwkY"
      },
      "outputs": [],
      "source": [
        "# data exploration package\n",
        "import numpy as np\n",
        "import pandas as pd\n",
        "import pandas as pd\n",
        "import numpy as np\n",
        "from matplotlib import pyplot as plt\n",
        "import seaborn as sns\n",
        "\n",
        "# scikit learn\n",
        "from sklearn.linear_model import ElasticNetCV, LinearRegression, LogisticRegression\n",
        "from sklearn.ensemble import GradientBoostingRegressor, GradientBoostingClassifier, RandomForestRegressor, RandomForestClassifier\n",
        "from sklearn.tree import DecisionTreeRegressor\n",
        "\n",
        "# econml\n",
        "from econml.dml import DML\n",
        "from econml.metalearners import TLearner, SLearner, XLearner"
      ]
    },
    {
      "cell_type": "code",
      "execution_count": null,
      "metadata": {
        "colab": {
          "base_uri": "https://localhost:8080/",
          "height": 394
        },
        "id": "el6KnXNPJJGe",
        "outputId": "61e6f8b5-f25b-4a5b-e69c-72086c3593de"
      },
      "outputs": [
        {
          "data": {
            "text/html": [
              "\n",
              "  <div id=\"df-57489aff-282e-41a1-80c1-857a3b7109fa\">\n",
              "    <div class=\"colab-df-container\">\n",
              "      <div>\n",
              "<style scoped>\n",
              "    .dataframe tbody tr th:only-of-type {\n",
              "        vertical-align: middle;\n",
              "    }\n",
              "\n",
              "    .dataframe tbody tr th {\n",
              "        vertical-align: top;\n",
              "    }\n",
              "\n",
              "    .dataframe thead th {\n",
              "        text-align: right;\n",
              "    }\n",
              "</style>\n",
              "<table border=\"1\" class=\"dataframe\">\n",
              "  <thead>\n",
              "    <tr style=\"text-align: right;\">\n",
              "      <th></th>\n",
              "      <th>schoolid</th>\n",
              "      <th>intervention</th>\n",
              "      <th>achievement_score</th>\n",
              "      <th>success_expect</th>\n",
              "      <th>ethnicity</th>\n",
              "      <th>gender</th>\n",
              "      <th>frst_in_family</th>\n",
              "      <th>school_urbanicity</th>\n",
              "      <th>school_mindset</th>\n",
              "      <th>school_achievement</th>\n",
              "      <th>school_ethnic_minority</th>\n",
              "      <th>school_poverty</th>\n",
              "      <th>school_size</th>\n",
              "    </tr>\n",
              "  </thead>\n",
              "  <tbody>\n",
              "    <tr>\n",
              "      <th>0</th>\n",
              "      <td>76</td>\n",
              "      <td>1</td>\n",
              "      <td>0.277359</td>\n",
              "      <td>6</td>\n",
              "      <td>4</td>\n",
              "      <td>2</td>\n",
              "      <td>1</td>\n",
              "      <td>4</td>\n",
              "      <td>0.334544</td>\n",
              "      <td>0.648586</td>\n",
              "      <td>-1.310927</td>\n",
              "      <td>0.224077</td>\n",
              "      <td>-0.426757</td>\n",
              "    </tr>\n",
              "    <tr>\n",
              "      <th>1</th>\n",
              "      <td>76</td>\n",
              "      <td>1</td>\n",
              "      <td>-0.449646</td>\n",
              "      <td>4</td>\n",
              "      <td>12</td>\n",
              "      <td>2</td>\n",
              "      <td>1</td>\n",
              "      <td>4</td>\n",
              "      <td>0.334544</td>\n",
              "      <td>0.648586</td>\n",
              "      <td>-1.310927</td>\n",
              "      <td>0.224077</td>\n",
              "      <td>-0.426757</td>\n",
              "    </tr>\n",
              "    <tr>\n",
              "      <th>2</th>\n",
              "      <td>76</td>\n",
              "      <td>1</td>\n",
              "      <td>0.769703</td>\n",
              "      <td>6</td>\n",
              "      <td>4</td>\n",
              "      <td>2</td>\n",
              "      <td>0</td>\n",
              "      <td>4</td>\n",
              "      <td>0.334544</td>\n",
              "      <td>0.648586</td>\n",
              "      <td>-1.310927</td>\n",
              "      <td>0.224077</td>\n",
              "      <td>-0.426757</td>\n",
              "    </tr>\n",
              "    <tr>\n",
              "      <th>3</th>\n",
              "      <td>76</td>\n",
              "      <td>1</td>\n",
              "      <td>-0.121763</td>\n",
              "      <td>6</td>\n",
              "      <td>4</td>\n",
              "      <td>2</td>\n",
              "      <td>0</td>\n",
              "      <td>4</td>\n",
              "      <td>0.334544</td>\n",
              "      <td>0.648586</td>\n",
              "      <td>-1.310927</td>\n",
              "      <td>0.224077</td>\n",
              "      <td>-0.426757</td>\n",
              "    </tr>\n",
              "    <tr>\n",
              "      <th>4</th>\n",
              "      <td>76</td>\n",
              "      <td>1</td>\n",
              "      <td>1.526147</td>\n",
              "      <td>6</td>\n",
              "      <td>4</td>\n",
              "      <td>1</td>\n",
              "      <td>0</td>\n",
              "      <td>4</td>\n",
              "      <td>0.334544</td>\n",
              "      <td>0.648586</td>\n",
              "      <td>-1.310927</td>\n",
              "      <td>0.224077</td>\n",
              "      <td>-0.426757</td>\n",
              "    </tr>\n",
              "    <tr>\n",
              "      <th>5</th>\n",
              "      <td>76</td>\n",
              "      <td>1</td>\n",
              "      <td>0.009607</td>\n",
              "      <td>6</td>\n",
              "      <td>4</td>\n",
              "      <td>2</td>\n",
              "      <td>0</td>\n",
              "      <td>4</td>\n",
              "      <td>0.334544</td>\n",
              "      <td>0.648586</td>\n",
              "      <td>-1.310927</td>\n",
              "      <td>0.224077</td>\n",
              "      <td>-0.426757</td>\n",
              "    </tr>\n",
              "    <tr>\n",
              "      <th>6</th>\n",
              "      <td>76</td>\n",
              "      <td>1</td>\n",
              "      <td>1.743033</td>\n",
              "      <td>6</td>\n",
              "      <td>4</td>\n",
              "      <td>1</td>\n",
              "      <td>0</td>\n",
              "      <td>4</td>\n",
              "      <td>0.334544</td>\n",
              "      <td>0.648586</td>\n",
              "      <td>-1.310927</td>\n",
              "      <td>0.224077</td>\n",
              "      <td>-0.426757</td>\n",
              "    </tr>\n",
              "    <tr>\n",
              "      <th>7</th>\n",
              "      <td>76</td>\n",
              "      <td>1</td>\n",
              "      <td>0.953294</td>\n",
              "      <td>6</td>\n",
              "      <td>4</td>\n",
              "      <td>1</td>\n",
              "      <td>0</td>\n",
              "      <td>4</td>\n",
              "      <td>0.334544</td>\n",
              "      <td>0.648586</td>\n",
              "      <td>-1.310927</td>\n",
              "      <td>0.224077</td>\n",
              "      <td>-0.426757</td>\n",
              "    </tr>\n",
              "    <tr>\n",
              "      <th>8</th>\n",
              "      <td>76</td>\n",
              "      <td>1</td>\n",
              "      <td>2.367780</td>\n",
              "      <td>6</td>\n",
              "      <td>5</td>\n",
              "      <td>2</td>\n",
              "      <td>0</td>\n",
              "      <td>4</td>\n",
              "      <td>0.334544</td>\n",
              "      <td>0.648586</td>\n",
              "      <td>-1.310927</td>\n",
              "      <td>0.224077</td>\n",
              "      <td>-0.426757</td>\n",
              "    </tr>\n",
              "    <tr>\n",
              "      <th>9</th>\n",
              "      <td>76</td>\n",
              "      <td>1</td>\n",
              "      <td>1.264409</td>\n",
              "      <td>6</td>\n",
              "      <td>4</td>\n",
              "      <td>1</td>\n",
              "      <td>1</td>\n",
              "      <td>4</td>\n",
              "      <td>0.334544</td>\n",
              "      <td>0.648586</td>\n",
              "      <td>-1.310927</td>\n",
              "      <td>0.224077</td>\n",
              "      <td>-0.426757</td>\n",
              "    </tr>\n",
              "    <tr>\n",
              "      <th>10</th>\n",
              "      <td>76</td>\n",
              "      <td>1</td>\n",
              "      <td>-0.558565</td>\n",
              "      <td>6</td>\n",
              "      <td>5</td>\n",
              "      <td>2</td>\n",
              "      <td>0</td>\n",
              "      <td>4</td>\n",
              "      <td>0.334544</td>\n",
              "      <td>0.648586</td>\n",
              "      <td>-1.310927</td>\n",
              "      <td>0.224077</td>\n",
              "      <td>-0.426757</td>\n",
              "    </tr>\n",
              "  </tbody>\n",
              "</table>\n",
              "</div>\n",
              "      <button class=\"colab-df-convert\" onclick=\"convertToInteractive('df-57489aff-282e-41a1-80c1-857a3b7109fa')\"\n",
              "              title=\"Convert this dataframe to an interactive table.\"\n",
              "              style=\"display:none;\">\n",
              "        \n",
              "  <svg xmlns=\"http://www.w3.org/2000/svg\" height=\"24px\"viewBox=\"0 0 24 24\"\n",
              "       width=\"24px\">\n",
              "    <path d=\"M0 0h24v24H0V0z\" fill=\"none\"/>\n",
              "    <path d=\"M18.56 5.44l.94 2.06.94-2.06 2.06-.94-2.06-.94-.94-2.06-.94 2.06-2.06.94zm-11 1L8.5 8.5l.94-2.06 2.06-.94-2.06-.94L8.5 2.5l-.94 2.06-2.06.94zm10 10l.94 2.06.94-2.06 2.06-.94-2.06-.94-.94-2.06-.94 2.06-2.06.94z\"/><path d=\"M17.41 7.96l-1.37-1.37c-.4-.4-.92-.59-1.43-.59-.52 0-1.04.2-1.43.59L10.3 9.45l-7.72 7.72c-.78.78-.78 2.05 0 2.83L4 21.41c.39.39.9.59 1.41.59.51 0 1.02-.2 1.41-.59l7.78-7.78 2.81-2.81c.8-.78.8-2.07 0-2.86zM5.41 20L4 18.59l7.72-7.72 1.47 1.35L5.41 20z\"/>\n",
              "  </svg>\n",
              "      </button>\n",
              "      \n",
              "  <style>\n",
              "    .colab-df-container {\n",
              "      display:flex;\n",
              "      flex-wrap:wrap;\n",
              "      gap: 12px;\n",
              "    }\n",
              "\n",
              "    .colab-df-convert {\n",
              "      background-color: #E8F0FE;\n",
              "      border: none;\n",
              "      border-radius: 50%;\n",
              "      cursor: pointer;\n",
              "      display: none;\n",
              "      fill: #1967D2;\n",
              "      height: 32px;\n",
              "      padding: 0 0 0 0;\n",
              "      width: 32px;\n",
              "    }\n",
              "\n",
              "    .colab-df-convert:hover {\n",
              "      background-color: #E2EBFA;\n",
              "      box-shadow: 0px 1px 2px rgba(60, 64, 67, 0.3), 0px 1px 3px 1px rgba(60, 64, 67, 0.15);\n",
              "      fill: #174EA6;\n",
              "    }\n",
              "\n",
              "    [theme=dark] .colab-df-convert {\n",
              "      background-color: #3B4455;\n",
              "      fill: #D2E3FC;\n",
              "    }\n",
              "\n",
              "    [theme=dark] .colab-df-convert:hover {\n",
              "      background-color: #434B5C;\n",
              "      box-shadow: 0px 1px 3px 1px rgba(0, 0, 0, 0.15);\n",
              "      filter: drop-shadow(0px 1px 2px rgba(0, 0, 0, 0.3));\n",
              "      fill: #FFFFFF;\n",
              "    }\n",
              "  </style>\n",
              "\n",
              "      <script>\n",
              "        const buttonEl =\n",
              "          document.querySelector('#df-57489aff-282e-41a1-80c1-857a3b7109fa button.colab-df-convert');\n",
              "        buttonEl.style.display =\n",
              "          google.colab.kernel.accessAllowed ? 'block' : 'none';\n",
              "\n",
              "        async function convertToInteractive(key) {\n",
              "          const element = document.querySelector('#df-57489aff-282e-41a1-80c1-857a3b7109fa');\n",
              "          const dataTable =\n",
              "            await google.colab.kernel.invokeFunction('convertToInteractive',\n",
              "                                                     [key], {});\n",
              "          if (!dataTable) return;\n",
              "\n",
              "          const docLinkHtml = 'Like what you see? Visit the ' +\n",
              "            '<a target=\"_blank\" href=https://colab.research.google.com/notebooks/data_table.ipynb>data table notebook</a>'\n",
              "            + ' to learn more about interactive tables.';\n",
              "          element.innerHTML = '';\n",
              "          dataTable['output_type'] = 'display_data';\n",
              "          await google.colab.output.renderOutput(dataTable, element);\n",
              "          const docLink = document.createElement('div');\n",
              "          docLink.innerHTML = docLinkHtml;\n",
              "          element.appendChild(docLink);\n",
              "        }\n",
              "      </script>\n",
              "    </div>\n",
              "  </div>\n",
              "  "
            ],
            "text/plain": [
              "    schoolid  intervention  achievement_score  success_expect  ethnicity  \\\n",
              "0         76             1           0.277359               6          4   \n",
              "1         76             1          -0.449646               4         12   \n",
              "2         76             1           0.769703               6          4   \n",
              "3         76             1          -0.121763               6          4   \n",
              "4         76             1           1.526147               6          4   \n",
              "5         76             1           0.009607               6          4   \n",
              "6         76             1           1.743033               6          4   \n",
              "7         76             1           0.953294               6          4   \n",
              "8         76             1           2.367780               6          5   \n",
              "9         76             1           1.264409               6          4   \n",
              "10        76             1          -0.558565               6          5   \n",
              "\n",
              "    gender  frst_in_family  school_urbanicity  school_mindset  \\\n",
              "0        2               1                  4        0.334544   \n",
              "1        2               1                  4        0.334544   \n",
              "2        2               0                  4        0.334544   \n",
              "3        2               0                  4        0.334544   \n",
              "4        1               0                  4        0.334544   \n",
              "5        2               0                  4        0.334544   \n",
              "6        1               0                  4        0.334544   \n",
              "7        1               0                  4        0.334544   \n",
              "8        2               0                  4        0.334544   \n",
              "9        1               1                  4        0.334544   \n",
              "10       2               0                  4        0.334544   \n",
              "\n",
              "    school_achievement  school_ethnic_minority  school_poverty  school_size  \n",
              "0             0.648586               -1.310927        0.224077    -0.426757  \n",
              "1             0.648586               -1.310927        0.224077    -0.426757  \n",
              "2             0.648586               -1.310927        0.224077    -0.426757  \n",
              "3             0.648586               -1.310927        0.224077    -0.426757  \n",
              "4             0.648586               -1.310927        0.224077    -0.426757  \n",
              "5             0.648586               -1.310927        0.224077    -0.426757  \n",
              "6             0.648586               -1.310927        0.224077    -0.426757  \n",
              "7             0.648586               -1.310927        0.224077    -0.426757  \n",
              "8             0.648586               -1.310927        0.224077    -0.426757  \n",
              "9             0.648586               -1.310927        0.224077    -0.426757  \n",
              "10            0.648586               -1.310927        0.224077    -0.426757  "
            ]
          },
          "execution_count": 42,
          "metadata": {},
          "output_type": "execute_result"
        }
      ],
      "source": [
        "df = pd.read_csv('https://raw.githubusercontent.com/hadimaster65555/dataset_for_teaching/main/dataset/learning_mindset/learning_mindset.csv')\n",
        "df.head(11)"
      ]
    },
    {
      "cell_type": "code",
      "execution_count": null,
      "metadata": {
        "colab": {
          "base_uri": "https://localhost:8080/"
        },
        "id": "vhP5r8KUj8-4",
        "outputId": "58f11509-c5bc-4619-86aa-ca48a20fd37a"
      },
      "outputs": [
        {
          "name": "stdout",
          "output_type": "stream",
          "text": [
            "<class 'pandas.core.frame.DataFrame'>\n",
            "RangeIndex: 10391 entries, 0 to 10390\n",
            "Data columns (total 13 columns):\n",
            " #   Column                  Non-Null Count  Dtype  \n",
            "---  ------                  --------------  -----  \n",
            " 0   schoolid                10391 non-null  int64  \n",
            " 1   intervention            10391 non-null  int64  \n",
            " 2   achievement_score       10391 non-null  float64\n",
            " 3   success_expect          10391 non-null  int64  \n",
            " 4   ethnicity               10391 non-null  int64  \n",
            " 5   gender                  10391 non-null  int64  \n",
            " 6   frst_in_family          10391 non-null  int64  \n",
            " 7   school_urbanicity       10391 non-null  int64  \n",
            " 8   school_mindset          10391 non-null  float64\n",
            " 9   school_achievement      10391 non-null  float64\n",
            " 10  school_ethnic_minority  10391 non-null  float64\n",
            " 11  school_poverty          10391 non-null  float64\n",
            " 12  school_size             10391 non-null  float64\n",
            "dtypes: float64(6), int64(7)\n",
            "memory usage: 1.0 MB\n"
          ]
        }
      ],
      "source": [
        "df.info()"
      ]
    },
    {
      "cell_type": "code",
      "execution_count": null,
      "metadata": {
        "colab": {
          "base_uri": "https://localhost:8080/",
          "height": 300
        },
        "id": "L8RmLVR-kDfO",
        "outputId": "c6c791ee-d9c4-41e2-f3cd-5e8fb91ad3fc"
      },
      "outputs": [
        {
          "data": {
            "text/html": [
              "\n",
              "  <div id=\"df-3ea7a873-d786-4420-85ba-e157ddf89b25\">\n",
              "    <div class=\"colab-df-container\">\n",
              "      <div>\n",
              "<style scoped>\n",
              "    .dataframe tbody tr th:only-of-type {\n",
              "        vertical-align: middle;\n",
              "    }\n",
              "\n",
              "    .dataframe tbody tr th {\n",
              "        vertical-align: top;\n",
              "    }\n",
              "\n",
              "    .dataframe thead th {\n",
              "        text-align: right;\n",
              "    }\n",
              "</style>\n",
              "<table border=\"1\" class=\"dataframe\">\n",
              "  <thead>\n",
              "    <tr style=\"text-align: right;\">\n",
              "      <th></th>\n",
              "      <th>schoolid</th>\n",
              "      <th>intervention</th>\n",
              "      <th>achievement_score</th>\n",
              "      <th>success_expect</th>\n",
              "      <th>ethnicity</th>\n",
              "      <th>gender</th>\n",
              "      <th>frst_in_family</th>\n",
              "      <th>school_urbanicity</th>\n",
              "      <th>school_mindset</th>\n",
              "      <th>school_achievement</th>\n",
              "      <th>school_ethnic_minority</th>\n",
              "      <th>school_poverty</th>\n",
              "      <th>school_size</th>\n",
              "    </tr>\n",
              "  </thead>\n",
              "  <tbody>\n",
              "    <tr>\n",
              "      <th>count</th>\n",
              "      <td>10391.000000</td>\n",
              "      <td>10391.000000</td>\n",
              "      <td>1.039100e+04</td>\n",
              "      <td>10391.000000</td>\n",
              "      <td>10391.000000</td>\n",
              "      <td>10391.000000</td>\n",
              "      <td>10391.000000</td>\n",
              "      <td>10391.000000</td>\n",
              "      <td>10391.000000</td>\n",
              "      <td>10391.000000</td>\n",
              "      <td>10391.000000</td>\n",
              "      <td>10391.000000</td>\n",
              "      <td>10391.000000</td>\n",
              "    </tr>\n",
              "    <tr>\n",
              "      <th>mean</th>\n",
              "      <td>39.888846</td>\n",
              "      <td>0.325666</td>\n",
              "      <td>1.324073e-16</td>\n",
              "      <td>5.268117</td>\n",
              "      <td>5.223078</td>\n",
              "      <td>1.489943</td>\n",
              "      <td>0.630931</td>\n",
              "      <td>2.447791</td>\n",
              "      <td>-0.040457</td>\n",
              "      <td>0.054841</td>\n",
              "      <td>-0.089349</td>\n",
              "      <td>-0.045911</td>\n",
              "      <td>-0.026168</td>\n",
              "    </tr>\n",
              "    <tr>\n",
              "      <th>std</th>\n",
              "      <td>24.008975</td>\n",
              "      <td>0.468646</td>\n",
              "      <td>1.000000e+00</td>\n",
              "      <td>1.120765</td>\n",
              "      <td>3.982963</td>\n",
              "      <td>0.499923</td>\n",
              "      <td>0.482576</td>\n",
              "      <td>1.378420</td>\n",
              "      <td>0.969743</td>\n",
              "      <td>0.935560</td>\n",
              "      <td>0.962804</td>\n",
              "      <td>0.967262</td>\n",
              "      <td>1.010387</td>\n",
              "    </tr>\n",
              "    <tr>\n",
              "      <th>min</th>\n",
              "      <td>1.000000</td>\n",
              "      <td>0.000000</td>\n",
              "      <td>-3.111431e+00</td>\n",
              "      <td>1.000000</td>\n",
              "      <td>1.000000</td>\n",
              "      <td>1.000000</td>\n",
              "      <td>0.000000</td>\n",
              "      <td>0.000000</td>\n",
              "      <td>-3.088790</td>\n",
              "      <td>-3.347819</td>\n",
              "      <td>-1.575463</td>\n",
              "      <td>-1.924778</td>\n",
              "      <td>-1.805073</td>\n",
              "    </tr>\n",
              "    <tr>\n",
              "      <th>25%</th>\n",
              "      <td>19.000000</td>\n",
              "      <td>0.000000</td>\n",
              "      <td>-7.033152e-01</td>\n",
              "      <td>5.000000</td>\n",
              "      <td>3.000000</td>\n",
              "      <td>1.000000</td>\n",
              "      <td>0.000000</td>\n",
              "      <td>1.000000</td>\n",
              "      <td>-0.617888</td>\n",
              "      <td>-0.544506</td>\n",
              "      <td>-0.963095</td>\n",
              "      <td>-0.813799</td>\n",
              "      <td>-0.857026</td>\n",
              "    </tr>\n",
              "    <tr>\n",
              "      <th>50%</th>\n",
              "      <td>41.000000</td>\n",
              "      <td>0.000000</td>\n",
              "      <td>-3.449486e-02</td>\n",
              "      <td>5.000000</td>\n",
              "      <td>4.000000</td>\n",
              "      <td>1.000000</td>\n",
              "      <td>1.000000</td>\n",
              "      <td>2.000000</td>\n",
              "      <td>-0.009954</td>\n",
              "      <td>-0.022514</td>\n",
              "      <td>-0.057036</td>\n",
              "      <td>-0.159602</td>\n",
              "      <td>-0.211553</td>\n",
              "    </tr>\n",
              "    <tr>\n",
              "      <th>75%</th>\n",
              "      <td>62.000000</td>\n",
              "      <td>1.000000</td>\n",
              "      <td>6.724723e-01</td>\n",
              "      <td>6.000000</td>\n",
              "      <td>5.000000</td>\n",
              "      <td>2.000000</td>\n",
              "      <td>1.000000</td>\n",
              "      <td>4.000000</td>\n",
              "      <td>0.420441</td>\n",
              "      <td>0.726836</td>\n",
              "      <td>0.515392</td>\n",
              "      <td>0.596474</td>\n",
              "      <td>0.847844</td>\n",
              "    </tr>\n",
              "    <tr>\n",
              "      <th>max</th>\n",
              "      <td>76.000000</td>\n",
              "      <td>1.000000</td>\n",
              "      <td>3.563639e+00</td>\n",
              "      <td>7.000000</td>\n",
              "      <td>15.000000</td>\n",
              "      <td>2.000000</td>\n",
              "      <td>1.000000</td>\n",
              "      <td>4.000000</td>\n",
              "      <td>2.834589</td>\n",
              "      <td>2.171815</td>\n",
              "      <td>2.358274</td>\n",
              "      <td>2.821660</td>\n",
              "      <td>1.892348</td>\n",
              "    </tr>\n",
              "  </tbody>\n",
              "</table>\n",
              "</div>\n",
              "      <button class=\"colab-df-convert\" onclick=\"convertToInteractive('df-3ea7a873-d786-4420-85ba-e157ddf89b25')\"\n",
              "              title=\"Convert this dataframe to an interactive table.\"\n",
              "              style=\"display:none;\">\n",
              "        \n",
              "  <svg xmlns=\"http://www.w3.org/2000/svg\" height=\"24px\"viewBox=\"0 0 24 24\"\n",
              "       width=\"24px\">\n",
              "    <path d=\"M0 0h24v24H0V0z\" fill=\"none\"/>\n",
              "    <path d=\"M18.56 5.44l.94 2.06.94-2.06 2.06-.94-2.06-.94-.94-2.06-.94 2.06-2.06.94zm-11 1L8.5 8.5l.94-2.06 2.06-.94-2.06-.94L8.5 2.5l-.94 2.06-2.06.94zm10 10l.94 2.06.94-2.06 2.06-.94-2.06-.94-.94-2.06-.94 2.06-2.06.94z\"/><path d=\"M17.41 7.96l-1.37-1.37c-.4-.4-.92-.59-1.43-.59-.52 0-1.04.2-1.43.59L10.3 9.45l-7.72 7.72c-.78.78-.78 2.05 0 2.83L4 21.41c.39.39.9.59 1.41.59.51 0 1.02-.2 1.41-.59l7.78-7.78 2.81-2.81c.8-.78.8-2.07 0-2.86zM5.41 20L4 18.59l7.72-7.72 1.47 1.35L5.41 20z\"/>\n",
              "  </svg>\n",
              "      </button>\n",
              "      \n",
              "  <style>\n",
              "    .colab-df-container {\n",
              "      display:flex;\n",
              "      flex-wrap:wrap;\n",
              "      gap: 12px;\n",
              "    }\n",
              "\n",
              "    .colab-df-convert {\n",
              "      background-color: #E8F0FE;\n",
              "      border: none;\n",
              "      border-radius: 50%;\n",
              "      cursor: pointer;\n",
              "      display: none;\n",
              "      fill: #1967D2;\n",
              "      height: 32px;\n",
              "      padding: 0 0 0 0;\n",
              "      width: 32px;\n",
              "    }\n",
              "\n",
              "    .colab-df-convert:hover {\n",
              "      background-color: #E2EBFA;\n",
              "      box-shadow: 0px 1px 2px rgba(60, 64, 67, 0.3), 0px 1px 3px 1px rgba(60, 64, 67, 0.15);\n",
              "      fill: #174EA6;\n",
              "    }\n",
              "\n",
              "    [theme=dark] .colab-df-convert {\n",
              "      background-color: #3B4455;\n",
              "      fill: #D2E3FC;\n",
              "    }\n",
              "\n",
              "    [theme=dark] .colab-df-convert:hover {\n",
              "      background-color: #434B5C;\n",
              "      box-shadow: 0px 1px 3px 1px rgba(0, 0, 0, 0.15);\n",
              "      filter: drop-shadow(0px 1px 2px rgba(0, 0, 0, 0.3));\n",
              "      fill: #FFFFFF;\n",
              "    }\n",
              "  </style>\n",
              "\n",
              "      <script>\n",
              "        const buttonEl =\n",
              "          document.querySelector('#df-3ea7a873-d786-4420-85ba-e157ddf89b25 button.colab-df-convert');\n",
              "        buttonEl.style.display =\n",
              "          google.colab.kernel.accessAllowed ? 'block' : 'none';\n",
              "\n",
              "        async function convertToInteractive(key) {\n",
              "          const element = document.querySelector('#df-3ea7a873-d786-4420-85ba-e157ddf89b25');\n",
              "          const dataTable =\n",
              "            await google.colab.kernel.invokeFunction('convertToInteractive',\n",
              "                                                     [key], {});\n",
              "          if (!dataTable) return;\n",
              "\n",
              "          const docLinkHtml = 'Like what you see? Visit the ' +\n",
              "            '<a target=\"_blank\" href=https://colab.research.google.com/notebooks/data_table.ipynb>data table notebook</a>'\n",
              "            + ' to learn more about interactive tables.';\n",
              "          element.innerHTML = '';\n",
              "          dataTable['output_type'] = 'display_data';\n",
              "          await google.colab.output.renderOutput(dataTable, element);\n",
              "          const docLink = document.createElement('div');\n",
              "          docLink.innerHTML = docLinkHtml;\n",
              "          element.appendChild(docLink);\n",
              "        }\n",
              "      </script>\n",
              "    </div>\n",
              "  </div>\n",
              "  "
            ],
            "text/plain": [
              "           schoolid  intervention  achievement_score  success_expect  \\\n",
              "count  10391.000000  10391.000000       1.039100e+04    10391.000000   \n",
              "mean      39.888846      0.325666       1.324073e-16        5.268117   \n",
              "std       24.008975      0.468646       1.000000e+00        1.120765   \n",
              "min        1.000000      0.000000      -3.111431e+00        1.000000   \n",
              "25%       19.000000      0.000000      -7.033152e-01        5.000000   \n",
              "50%       41.000000      0.000000      -3.449486e-02        5.000000   \n",
              "75%       62.000000      1.000000       6.724723e-01        6.000000   \n",
              "max       76.000000      1.000000       3.563639e+00        7.000000   \n",
              "\n",
              "          ethnicity        gender  frst_in_family  school_urbanicity  \\\n",
              "count  10391.000000  10391.000000    10391.000000       10391.000000   \n",
              "mean       5.223078      1.489943        0.630931           2.447791   \n",
              "std        3.982963      0.499923        0.482576           1.378420   \n",
              "min        1.000000      1.000000        0.000000           0.000000   \n",
              "25%        3.000000      1.000000        0.000000           1.000000   \n",
              "50%        4.000000      1.000000        1.000000           2.000000   \n",
              "75%        5.000000      2.000000        1.000000           4.000000   \n",
              "max       15.000000      2.000000        1.000000           4.000000   \n",
              "\n",
              "       school_mindset  school_achievement  school_ethnic_minority  \\\n",
              "count    10391.000000        10391.000000            10391.000000   \n",
              "mean        -0.040457            0.054841               -0.089349   \n",
              "std          0.969743            0.935560                0.962804   \n",
              "min         -3.088790           -3.347819               -1.575463   \n",
              "25%         -0.617888           -0.544506               -0.963095   \n",
              "50%         -0.009954           -0.022514               -0.057036   \n",
              "75%          0.420441            0.726836                0.515392   \n",
              "max          2.834589            2.171815                2.358274   \n",
              "\n",
              "       school_poverty   school_size  \n",
              "count    10391.000000  10391.000000  \n",
              "mean        -0.045911     -0.026168  \n",
              "std          0.967262      1.010387  \n",
              "min         -1.924778     -1.805073  \n",
              "25%         -0.813799     -0.857026  \n",
              "50%         -0.159602     -0.211553  \n",
              "75%          0.596474      0.847844  \n",
              "max          2.821660      1.892348  "
            ]
          },
          "execution_count": 6,
          "metadata": {},
          "output_type": "execute_result"
        }
      ],
      "source": [
        "df.describe()"
      ]
    },
    {
      "cell_type": "code",
      "source": [
        "sns.boxplot(data=df, x='intervention', y='achievement_score')"
      ],
      "metadata": {
        "colab": {
          "base_uri": "https://localhost:8080/",
          "height": 296
        },
        "id": "-gTikJakyLUr",
        "outputId": "0d151117-1fee-4c41-d7df-07f8b773ac96"
      },
      "execution_count": 91,
      "outputs": [
        {
          "output_type": "execute_result",
          "data": {
            "text/plain": [
              "<matplotlib.axes._subplots.AxesSubplot at 0x7f7f91929790>"
            ]
          },
          "metadata": {},
          "execution_count": 91
        },
        {
          "output_type": "display_data",
          "data": {
            "text/plain": [
              "<Figure size 432x288 with 1 Axes>"
            ],
            "image/png": "[encoded data removed]"
          },
          "metadata": {
            "needs_background": "light"
          }
        }
      ]
    },
    {
      "cell_type": "code",
      "source": [
        "df.columns.to_list()"
      ],
      "metadata": {
        "colab": {
          "base_uri": "https://localhost:8080/"
        },
        "id": "YsZG1yZiy5Oz",
        "outputId": "49de60b8-5fcc-42ae-e5d6-2d6e5e14e4ea"
      },
      "execution_count": 93,
      "outputs": [
        {
          "output_type": "execute_result",
          "data": {
            "text/plain": [
              "['schoolid',\n",
              " 'intervention',\n",
              " 'achievement_score',\n",
              " 'success_expect',\n",
              " 'ethnicity',\n",
              " 'gender',\n",
              " 'frst_in_family',\n",
              " 'school_urbanicity',\n",
              " 'school_mindset',\n",
              " 'school_achievement',\n",
              " 'school_ethnic_minority',\n",
              " 'school_poverty',\n",
              " 'school_size']"
            ]
          },
          "metadata": {},
          "execution_count": 93
        }
      ]
    },
    {
      "cell_type": "markdown",
      "source": [
        "## modeling\n"
      ],
      "metadata": {
        "id": "OrJIykybsn9A"
      }
    },
    {
      "cell_type": "markdown",
      "source": [
        "alasan mengapa saya menggunakan covariate sebagai berikut :\n",
        "\n",
        "- success_expect : ekspetasi sukses di masa depan mempengaruhi prestasi siswa, optimis sukses bisa saja prestasi nya meningkat\n",
        "- school_mindset : level pola pikir siswa mempengaruhi prestasi siswa\n",
        "- frst_in_family : anak pertama di dalam keluarga yang melanjutkan ke perguruan tinggi, bisa saja anak pertama di keluarga yang kuliah, dia jadi semangat gitu belajarnya\n",
        "- school_poverty : siswa yang berasal dari keluarga miskin bisa saja punya semangat yang tinggi karena balik lagi ke ekspetasi anak miskin yang bisa sukses\n"
      ],
      "metadata": {
        "id": "gY7QZmlfh1je"
      }
    },
    {
      "cell_type": "code",
      "execution_count": 103,
      "metadata": {
        "id": "r1tl_zcRHt6g"
      },
      "outputs": [],
      "source": [
        "X = ['success_expect','school_mindset','frst_in_family','school_poverty']\n",
        "Y = 'achievement_score'\n",
        "T = 'intervention'"
      ]
    },
    {
      "cell_type": "code",
      "execution_count": 104,
      "metadata": {
        "id": "-k7piPsaRKnx"
      },
      "outputs": [],
      "source": [
        "# define DML Object\n",
        "dml_est = DML(\n",
        "    model_y = GradientBoostingRegressor(n_estimators=100, random_state = 1000),\n",
        "    model_t = GradientBoostingClassifier(n_estimators=100, random_state = 1000),\n",
        "    model_final = LinearRegression(fit_intercept=False),\n",
        "    random_state = 1000\n",
        ")"
      ]
    },
    {
      "cell_type": "code",
      "execution_count": 105,
      "metadata": {
        "colab": {
          "base_uri": "https://localhost:8080/"
        },
        "id": "SR923o98RN7n",
        "outputId": "9bd18121-4955-475a-e63c-d1738bb7194d"
      },
      "outputs": [
        {
          "output_type": "execute_result",
          "data": {
            "text/plain": [
              "<econml.dml.dml.DML at 0x7f7f906e0950>"
            ]
          },
          "metadata": {},
          "execution_count": 105
        }
      ],
      "source": [
        "# fit estimator to train data\n",
        "np.random.seed(1000)\n",
        "dml_est.fit(df[Y], T = df[T], X = df[X], inference=\"bootstrap\")"
      ]
    },
    {
      "cell_type": "code",
      "execution_count": 106,
      "metadata": {
        "colab": {
          "base_uri": "https://localhost:8080/",
          "height": 341
        },
        "id": "tneS1pL2SAkw",
        "outputId": "ae4eee4b-9c84-4042-e687-76389e5372df"
      },
      "outputs": [
        {
          "output_type": "execute_result",
          "data": {
            "text/plain": [
              "<class 'econml.utilities.Summary'>\n",
              "\"\"\"\n",
              "                        Coefficient Results                         \n",
              "====================================================================\n",
              "               point_estimate stderr zstat  pvalue ci_lower ci_upper\n",
              "--------------------------------------------------------------------\n",
              "success_expect          0.018  0.011  1.614   0.07   -0.005    0.038\n",
              "school_mindset         -0.033  0.013 -2.611    0.0   -0.055   -0.007\n",
              "frst_in_family         -0.019  0.025 -0.788   0.13   -0.082    0.019\n",
              "school_poverty          0.021  0.014  1.558   0.01    0.006    0.054\n",
              "                       CATE Intercept Results                      \n",
              "===================================================================\n",
              "               point_estimate stderr zstat pvalue ci_lower ci_upper\n",
              "-------------------------------------------------------------------\n",
              "cate_intercept          0.181  0.064 2.836    0.0    0.071    0.317\n",
              "-------------------------------------------------------------------\n",
              "\n",
              "<sub>A linear parametric conditional average treatment effect (CATE) model was fitted:\n",
              "$Y = \\Theta(X)\\cdot T + g(X, W) + \\epsilon$\n",
              "where for every outcome $i$ and treatment $j$ the CATE $\\Theta_{ij}(X)$ has the form:\n",
              "$\\Theta_{ij}(X) = \\phi(X)' coef_{ij} + cate\\_intercept_{ij}$\n",
              "where $\\phi(X)$ is the output of the `featurizer` or $X$ if `featurizer`=None. Coefficient Results table portrays the $coef_{ij}$ parameter vector for each outcome $i$ and treatment $j$. Intercept Results table portrays the $cate\\_intercept_{ij}$ parameter.</sub>\n",
              "\"\"\""
            ],
            "text/html": [
              "<table class=\"simpletable\">\n",
              "<caption>Coefficient Results</caption>\n",
              "<tr>\n",
              "         <td></td>        <th>point_estimate</th> <th>stderr</th>  <th>zstat</th> <th>pvalue</th> <th>ci_lower</th> <th>ci_upper</th>\n",
              "</tr>\n",
              "<tr>\n",
              "  <th>success_expect</th>      <td>0.018</td>      <td>0.011</td>  <td>1.614</td>  <td>0.07</td>   <td>-0.005</td>    <td>0.038</td> \n",
              "</tr>\n",
              "<tr>\n",
              "  <th>school_mindset</th>     <td>-0.033</td>      <td>0.013</td> <td>-2.611</td>   <td>0.0</td>   <td>-0.055</td>   <td>-0.007</td> \n",
              "</tr>\n",
              "<tr>\n",
              "  <th>frst_in_family</th>     <td>-0.019</td>      <td>0.025</td> <td>-0.788</td>  <td>0.13</td>   <td>-0.082</td>    <td>0.019</td> \n",
              "</tr>\n",
              "<tr>\n",
              "  <th>school_poverty</th>      <td>0.021</td>      <td>0.014</td>  <td>1.558</td>  <td>0.01</td>    <td>0.006</td>    <td>0.054</td> \n",
              "</tr>\n",
              "</table>\n",
              "<table class=\"simpletable\">\n",
              "<caption>CATE Intercept Results</caption>\n",
              "<tr>\n",
              "         <td></td>        <th>point_estimate</th> <th>stderr</th> <th>zstat</th> <th>pvalue</th> <th>ci_lower</th> <th>ci_upper</th>\n",
              "</tr>\n",
              "<tr>\n",
              "  <th>cate_intercept</th>      <td>0.181</td>      <td>0.064</td> <td>2.836</td>   <td>0.0</td>    <td>0.071</td>    <td>0.317</td> \n",
              "</tr>\n",
              "</table><br/><br/><sub>A linear parametric conditional average treatment effect (CATE) model was fitted:<br/>$Y = \\Theta(X)\\cdot T + g(X, W) + \\epsilon$<br/>where for every outcome $i$ and treatment $j$ the CATE $\\Theta_{ij}(X)$ has the form:<br/>$\\Theta_{ij}(X) = \\phi(X)' coef_{ij} + cate\\_intercept_{ij}$<br/>where $\\phi(X)$ is the output of the `featurizer` or $X$ if `featurizer`=None. Coefficient Results table portrays the $coef_{ij}$ parameter vector for each outcome $i$ and treatment $j$. Intercept Results table portrays the $cate\\_intercept_{ij}$ parameter.</sub>"
            ]
          },
          "metadata": {},
          "execution_count": 106
        }
      ],
      "source": [
        "dml_est.summary()"
      ]
    },
    {
      "cell_type": "markdown",
      "source": [
        "Berdasarkan hasil tersebut kita dapat menginterpretasikan model yang significant p valuenya:\n",
        "- semakin level pola pikir nya rendah maka treatment growth mindset nya positif\n",
        "- begitu juga dengan level siswa dari keluarga miskin, semakin tinggi level nya maka semakin positif treatment terhadap growth mindsetnya"
      ],
      "metadata": {
        "id": "nW2AudME0qe0"
      }
    },
    {
      "cell_type": "code",
      "source": [
        "# Get treatment effect and its confidence interval\n",
        "te_pred = dml_est.effect(df[X])"
      ],
      "metadata": {
        "id": "-jyLrzyBkM_I"
      },
      "execution_count": 107,
      "outputs": []
    },
    {
      "cell_type": "code",
      "source": [
        "# Measure intervention effect\n",
        "np.mean(te_pred)"
      ],
      "metadata": {
        "colab": {
          "base_uri": "https://localhost:8080/",
          "height": 37
        },
        "id": "zzIpIvlBkULF",
        "outputId": "10abb001-d3e3-4cf5-af94-e7a4a61d5043"
      },
      "execution_count": 108,
      "outputs": [
        {
          "output_type": "execute_result",
          "data": {
            "text/plain": [
              "0.26230616007481206"
            ],
            "image/png": "[encoded data removed]",
            "text/latex": "$\\displaystyle 0.262306160074812$"
          },
          "metadata": {},
          "execution_count": 108
        }
      ]
    },
    {
      "cell_type": "code",
      "source": [
        "# check treatment effect distribution\n",
        "sns.boxplot(x = te_pred).set_title(\"Treatment Effect Distribution by using DML\");"
      ],
      "metadata": {
        "colab": {
          "base_uri": "https://localhost:8080/",
          "height": 281
        },
        "id": "_mAlX9WUkfxX",
        "outputId": "439b6c7c-fbe8-4ba2-9f44-db3662a75e01"
      },
      "execution_count": 109,
      "outputs": [
        {
          "output_type": "display_data",
          "data": {
            "text/plain": [
              "<Figure size 432x288 with 1 Axes>"
            ],
            "image/png": "[encoded data removed]"
          },
          "metadata": {
            "needs_background": "light"
          }
        }
      ]
    },
    {
      "cell_type": "markdown",
      "source": [
        "Karena ATE positif, kita dapat mengartikan bahwa saat kita melakukan trearment growth mindset pada siwa, maka seharusnya score prestasi nya meningkat."
      ],
      "metadata": {
        "id": "LFQQYCW9274h"
      }
    }
  ],
  "metadata": {
    "colab": {
      "name": "Assignment Day 14 Advanced - Aditya Rizaldi.ipynb",
      "provenance": [],
      "collapsed_sections": []
    },
    "kernelspec": {
      "display_name": "Python 3",
      "name": "python3"
    },
    "language_info": {
      "name": "python"
    }
  },
  "nbformat": 4,
  "nbformat_minor": 0
}