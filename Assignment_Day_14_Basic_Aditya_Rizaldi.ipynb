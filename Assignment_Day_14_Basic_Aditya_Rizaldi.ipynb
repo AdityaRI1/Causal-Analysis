{
  "nbformat": 4,
  "nbformat_minor": 0,
  "metadata": {
    "colab": {
      "name": "Assignment Day 14 Basic - Aditya Rizaldi.ipynb",
      "provenance": [],
      "collapsed_sections": []
    },
    "kernelspec": {
      "name": "python3",
      "display_name": "Python 3"
    },
    "language_info": {
      "name": "python"
    }
  },
  "cells": [
    {
      "cell_type": "markdown",
      "source": [
        "## 1. Jelaskan mengapa proses matching perlu dilakukan ketika ingin mengukur dampak dari suatu treatment pada propensity score modeling?\n",
        "\n",
        "karena agar pengukuran dampak nya reliabel dan masuk akal, \n",
        "maka matching itu diperlukan sekali..\n",
        "contohnya kasus meroko dengan yang tidak, tentu aja \n",
        "pengukuran dampak treatment harus di ukur berdasarkan\n",
        "dengan yang sama2 perokok, tidak bercampur dengan yang bukan perokok"
      ],
      "metadata": {
        "id": "DlnwSRjzX07W"
      }
    },
    {
      "cell_type": "markdown",
      "source": [
        "##2. Sebelum adanya Double ML, peneliti machine learning menggunakan metode Double Selection untuk menguji efek dari treatment. Namun pada akhirnya Double Machine Learning digunakan karena lebih baik dibandingkan dengan Double Selection. Jelaskan mengapa Double ML lebih baik digunakan ketimbang Double Selection? Masalah apa yang ada pada Double Selection yang dapat diselesaikan dengan Double ML?\n",
        "\n",
        "double ml bisa untuk yang mempunyai banyak variabel dan model yang kompleks\n",
        "karena pada double selection, variabel yang tidak berkolerasi\n",
        "di buang atau di lakukan reduksi... menjadikan dalam tujuan statistika inferesial tidak terpenuhi.. jadi miss impact terhadap treatment"
      ],
      "metadata": {
        "id": "PrS-knBXYNJS"
      }
    },
    {
      "cell_type": "markdown",
      "source": [
        "##3. Ada banyak metrik yang dapat digunakan untuk mengukur dampak dari suatu variabel: ATE, CATE, dan LATE. Jelaskan kapan masing-masing metrik digunakan!\n",
        "\n",
        "- ATE di gunakan ketika ingin mengetahui dampak pada semua populasi\n",
        "- CATE di gunakan ketika ingin mengetahui dampak pada misalnya berdasarkan gendernya\n",
        "- LATE di gunakan ketika ingin mengtahui dampak rasio estimasi efek intent-to-treat dan estimasi proporsi kompiler,"
      ],
      "metadata": {
        "id": "shtyIIeeYrwl"
      }
    },
    {
      "cell_type": "markdown",
      "source": [
        "##4. Berikut adalah pertanyaan open-ended, akan dinilai berdasarkan argumentasi yang memiliki landasan. \n",
        "Kita dapat mengekstrak knowledge dari model dengan menggunakan interpretable machine learning. Namun kita juga dapat menggunakan metode seperti double ML untuk mendapatkan pola sebab-akibat berdasarkan data generation process. Mana metode yang lebih baik untuk menjelaskan dampak dari akibat? Kapan metode interpretable machine learning dapat digunakan untuk analisis kausal?\n",
        "\n",
        "menurutku lebih baik kita menggunakan metode double ml, karena dapat menggunakan model yang kompleks..\n",
        "metode interpretable machine learning dapat digunakan untuk analisis kausal saat model nya tidak telalu kompleks"
      ],
      "metadata": {
        "id": "q1i0rsVLbKvd"
      }
    }
  ]
}